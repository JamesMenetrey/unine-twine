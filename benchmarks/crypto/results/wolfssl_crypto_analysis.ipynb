{
 "cells": [
  {
   "cell_type": "code",
   "execution_count": null,
   "metadata": {},
   "outputs": [],
   "source": [
    "# Imports\n",
    "import matplotlib\n",
    "import matplotlib.pyplot as plt\n",
    "import numpy as np\n",
    "import pandas as pd\n",
    "\n",
    "plt.rcParams['figure.figsize'] = (15.0, 8.0) # set default size of plots\n",
    "plt.rcParams['figure.facecolor'] = 'white'\n",
    "\n",
    "pd.set_option('display.max_rows', None)\n",
    "\n",
    "matplotlib.rcParams.update({'font.size': 15})\n",
    "\n",
    "colors = [\"#cccccc\", \"#FB9A99\", \"#B0DC89\", \"#33A02C\", \"#A6CEE3\", \"#1F78B4\", \"#FDBF6F\", \"#FF7F00\"]"
   ]
  },
  {
   "cell_type": "code",
   "execution_count": null,
   "metadata": {},
   "outputs": [],
   "source": [
    "def read_sym_cipher(filename):\n",
    "    column_names = [\"sym\", \"Algorithm\", \"HW/SW\", \"bytes_total\", \"seconds_total\", \"MB/s\", \"unused\"]\n",
    "    data = pd.read_csv(filename, names=column_names, on_bad_lines='skip')\n",
    "    data = data.loc[data[\"sym\"] == \"sym\"].reset_index(drop=True)\n",
    "    data[\"Algorithm\"] = data[\"Algorithm\"].str.replace('_', '-', regex=True)\n",
    "    data[\"Algorithm\"] = data[\"Algorithm\"].str.replace('-enc', '', regex=True)\n",
    "    data[\"throughput\"] = (data[\"bytes_total\"].astype(int) / data[\"seconds_total\"].astype(float)) / 1024 / 1024\n",
    "    data = data[data[\"Algorithm\"].str.contains(\"AAD\") == False]\n",
    "    data = data[data[\"Algorithm\"].str.contains(\"GMAC\") == False]\n",
    "    data = data[data[\"Algorithm\"].str.contains(\"-dec\") == False]\n",
    "    #data[\"Algorithm\"] = data[\"Algorithm\"].str.replace('GMAC Default', 'GMAC', regex=True)\n",
    "    #grouped_by_database_type = filtered_by_database_type.groupby('database_type', as_index=False).median()\n",
    "    data = data.drop('sym', axis=1).drop('HW/SW', axis=1).drop('bytes_total', axis=1).drop('seconds_total', axis=1) \\\n",
    "               .drop('MB/s', axis=1).drop('unused', axis=1)\n",
    "    return data\n",
    "\n",
    "def group_sym(data):\n",
    "    data = data.groupby([\"Algorithm\"], as_index=False).agg([np.mean, np.std]).droplevel(axis=1, level=0).reset_index()\n",
    "    data.columns = [\"experiment\", \"mean\", \"std\"]\n",
    "    return data\n",
    "\n",
    "def group_asym(data):\n",
    "    data = data.groupby([\"name\"], as_index=False).agg([np.mean, np.std]).droplevel(axis=1, level=0).reset_index()\n",
    "    data.columns = [\"experiment\", \"mean\", \"std\"]\n",
    "    return data\n",
    "\n",
    "def read_asym_cipher(filename):\n",
    "    column_names = [\"asym\", \"Algorithm\", \"key size\", \"operation\", \"avg ms\", \"ops/sec\", \"ops\", \"secs\"]\n",
    "    data = pd.read_csv(filename, names=column_names, on_bad_lines='skip')\n",
    "    data = data.loc[data[\"asym\"] == \"asym\"].reset_index(drop=True)\n",
    "    data[\"name\"] = data[\"Algorithm\"] + \" (\" + data[\"operation\"] + \")\"\n",
    "    data[\"name\"] = data[\"name\"].str.replace('\\[ *SECP256R1\\]', '', regex=True)\n",
    "    data[\"name\"] = data[\"name\"].str.replace('   ', ' ', regex=True)\n",
    "    data[\"name\"] = data[\"name\"].str.replace('  ', ' ', regex=True)\n",
    "    data[\"name\"] = data[\"name\"].str.replace('_', '-', regex=True)\n",
    "    data[\"name\"] = data[\"name\"].str.replace(' \\(', '-', regex=True)\n",
    "    data[\"name\"] = data[\"name\"].str.replace('\\)', '', regex=True)\n",
    "    data[\"name\"] = data[\"name\"].str.replace('key gen', 'keygen', regex=True)\n",
    "    data[\"us\"] = data[\"avg ms\"].astype(float) * 1024\n",
    "    #grouped_by_database_type = filtered_by_database_type.groupby('database_type', as_index=False).median()\n",
    "    return data.drop('asym', axis=1).drop('Algorithm', axis=1).drop('key size', axis=1).drop('operation', axis=1) \\\n",
    "               .drop('avg ms', axis=1).drop('ops/sec', axis=1).drop('ops', axis=1).drop('secs', axis=1)"
   ]
  },
  {
   "cell_type": "code",
   "execution_count": null,
   "metadata": {},
   "outputs": [],
   "source": [
    "native_raw_data_sym = read_sym_cipher('benchmark-native-large-pages.csv')\n",
    "native_raw_data_asym = read_asym_cipher('benchmark-native-large-pages.csv')\n",
    "\n",
    "native_sgx_raw_data_sym = read_sym_cipher('benchmark-native-sgx.csv')\n",
    "native_sgx_raw_data_asym = read_asym_cipher('benchmark-native-sgx.csv')\n",
    "\n",
    "wasm_raw_data_sym = read_sym_cipher('benchmark-wasm.csv')\n",
    "wasm_raw_data_asym = read_asym_cipher('benchmark-wasm.csv')\n",
    "\n",
    "wasm_sgx_raw_data_sym = read_sym_cipher('benchmark-wasm-sgx.csv')\n",
    "wasm_sgx_raw_data_asym = read_asym_cipher('benchmark-wasm-sgx.csv')"
   ]
  },
  {
   "cell_type": "code",
   "execution_count": null,
   "metadata": {},
   "outputs": [],
   "source": [
    "# Normalize the results based on native implementation\n",
    "assert native_sgx_raw_data_sym.shape[0] == native_raw_data_sym.shape[0]\n",
    "native_sgx_raw_data_sym[\"throughput\"] = 1 / (native_sgx_raw_data_sym[\"throughput\"] / native_raw_data_sym[\"throughput\"])\n",
    "assert native_sgx_raw_data_asym.shape[0] == native_raw_data_asym.shape[0]\n",
    "native_sgx_raw_data_asym[\"us\"] = native_sgx_raw_data_asym[\"us\"] / native_raw_data_asym[\"us\"]\n",
    "\n",
    "assert wasm_raw_data_sym.shape[0] == native_raw_data_sym.shape[0]\n",
    "wasm_raw_data_sym[\"throughput\"] = 1 / (wasm_raw_data_sym[\"throughput\"] / native_raw_data_sym[\"throughput\"])\n",
    "assert wasm_raw_data_asym.shape[0] == native_raw_data_asym.shape[0]\n",
    "wasm_raw_data_asym[\"us\"] = wasm_raw_data_asym[\"us\"] / native_raw_data_asym[\"us\"]\n",
    "\n",
    "assert wasm_sgx_raw_data_sym.shape[0] == native_raw_data_sym.shape[0]\n",
    "wasm_sgx_raw_data_sym[\"throughput\"] = 1 / (wasm_sgx_raw_data_sym[\"throughput\"] / native_raw_data_sym[\"throughput\"])\n",
    "assert wasm_sgx_raw_data_asym.shape[0] == native_raw_data_asym.shape[0]\n",
    "wasm_sgx_raw_data_asym[\"us\"] = wasm_sgx_raw_data_asym[\"us\"] / native_raw_data_asym[\"us\"]"
   ]
  },
  {
   "cell_type": "code",
   "execution_count": null,
   "metadata": {},
   "outputs": [],
   "source": [
    "#native_sgx_raw_data_sym"
   ]
  },
  {
   "cell_type": "code",
   "execution_count": null,
   "metadata": {},
   "outputs": [],
   "source": [
    "native_sgx_data_sym_grouped = group_sym(native_sgx_raw_data_sym)\n",
    "wasm_data_sym_grouped = group_sym(wasm_raw_data_sym)\n",
    "wasm_sgx_data_sym_grouped = group_sym(wasm_sgx_raw_data_sym)\n",
    "\n",
    "wasm_sgx_data_sym_grouped.sort_values(by=[\"mean\"], ascending=True)"
   ]
  },
  {
   "cell_type": "code",
   "execution_count": null,
   "metadata": {},
   "outputs": [],
   "source": [
    "native_sgx_data_asym_grouped = group_asym(native_sgx_raw_data_asym)\n",
    "wasm_data_asym_grouped = group_asym(wasm_raw_data_asym)\n",
    "wasm_sgx_data_asym_grouped = group_asym(wasm_sgx_raw_data_asym)\n",
    "\n",
    "native_sgx_data_asym_grouped"
   ]
  },
  {
   "cell_type": "code",
   "execution_count": null,
   "metadata": {},
   "outputs": [],
   "source": [
    "# Retrieve the name of the experiment, order by TEE normalized run time\n",
    "wasm_sgx_data_sym_indexes = wasm_sgx_data_sym_grouped.sort_values(by=[\"mean\"], ascending=True).index\n",
    "wasm_sgx_data_asym_indexes = wasm_sgx_data_asym_grouped.sort_values(by=[\"mean\"], ascending=True).index\n",
    "\n",
    "# Order the entries based on the TEE normalized run time\n",
    "native_sgx_data_sym_export = native_sgx_data_sym_grouped.reindex(wasm_sgx_data_sym_indexes)\n",
    "wasm_data_sym_export = wasm_data_sym_grouped.reindex(wasm_sgx_data_sym_indexes)\n",
    "wasm_sgx_data_sym_export = wasm_sgx_data_sym_grouped.reindex(wasm_sgx_data_sym_indexes)\n",
    "\n",
    "native_sgx_data_asym_export = native_sgx_data_asym_grouped.reindex(wasm_sgx_data_asym_indexes)\n",
    "wasm_data_asym_export = wasm_data_asym_grouped.reindex(wasm_sgx_data_asym_indexes)\n",
    "wasm_sgx_data_asym_export = wasm_sgx_data_asym_grouped.reindex(wasm_sgx_data_asym_indexes)\n",
    "\n",
    "# Display the ordered experiments' name\n",
    "display(\",\".join(wasm_sgx_data_sym_export[\"experiment\"].values))\n",
    "display(\",\".join(wasm_sgx_data_asym_export[\"experiment\"].values))"
   ]
  },
  {
   "cell_type": "code",
   "execution_count": null,
   "metadata": {},
   "outputs": [],
   "source": [
    "#\n",
    "# Export script\n",
    "#\n",
    "def export_to_file(dataset, filename):\n",
    "    dataset.to_csv(filename, index=False)\n",
    "    \n",
    "export_to_file(native_sgx_data_sym_export, 'sym_native_sgx_data_formatted.csv')\n",
    "export_to_file(wasm_data_sym_export, 'sym_wasm_data_formatted.csv')\n",
    "export_to_file(wasm_sgx_data_sym_export, 'sym_wasm_sgx_data_formatted.csv')\n",
    "export_to_file(native_sgx_data_asym_export, 'asym_native_sgx_data_formatted.csv')\n",
    "export_to_file(wasm_data_asym_export, 'asym_wasm_data_formatted.csv')\n",
    "export_to_file(wasm_sgx_data_asym_export, 'asym_wasm_sgx_data_formatted.csv')"
   ]
  },
  {
   "cell_type": "code",
   "execution_count": null,
   "metadata": {},
   "outputs": [],
   "source": [
    "#\n",
    "## Stats for the paper.\n",
    "#\n",
    "\n",
    "def r_ratio(value, number_of_digits = 1):\n",
    "    return f\"{round(value, number_of_digits)}\"\n",
    "\n",
    "symmetric_ciphers_names = [\"3DES\",\"SHAKE256\",\"SHAKE128\",\"Camellia\",\"AES-192-CBC\",\"AES-256-CBC\",\"AES-CCM\",\"AES-128-CBC\",\"AES-256-GCM\",\"AES-192-GCM\",\"AES-128-GCM\",\"CHACHA\"]\n",
    "crypto_sym_ratio_wasm_to_native = r_ratio(wasm_data_sym_export[wasm_data_sym_export[\"experiment\"].isin(symmetric_ciphers_names)][\"mean\"].agg(np.mean))\n",
    "crypto_sym_ratio_wasm_sgx_to_native = r_ratio(wasm_sgx_data_sym_export[wasm_sgx_data_sym_export[\"experiment\"].isin(symmetric_ciphers_names)][\"mean\"].agg(np.mean))\n",
    "\n",
    "hash_ciphers_names = [\"SHA3-512\",\"SHA3-384\",\"SHA3-256\",\"SHA3-224\"\"MD5\",\"HMAC-MD5\",\"HMAC-SHA224\",\"HMAC-SHA256\",\"SHA\",\"HMAC-SHA\",\"SHA-224\",\"SHA-256\",\"PBKDF2\",\"POLY1305\",\"HMAC-SHA512\",\"HMAC-SHA384\",\"SHA-384\",\"SHA-512\"]\n",
    "crypto_hash_ratio_wasm_to_native = r_ratio(wasm_data_sym_export[wasm_data_sym_export[\"experiment\"].isin(hash_ciphers_names)][\"mean\"].agg(np.mean))\n",
    "crypto_hash_ratio_wasm_sgx_to_native = r_ratio(wasm_sgx_data_sym_export[wasm_sgx_data_sym_export[\"experiment\"].isin(hash_ciphers_names)][\"mean\"].agg(np.mean))\n",
    "\n",
    "asymmetric_ciphers_names = [\"ECDHE-agree\",\"ECDSA-sign\",\"ECDSA-verify\",\"ECC-keygen\",\"RSA-private\",\"RSA-public\",\"DH-agree\",\"DH-keygen\"]\n",
    "crypto_asym_ratio_wasm_to_native = r_ratio(wasm_data_asym_export[wasm_data_asym_export[\"experiment\"].isin(asymmetric_ciphers_names)][\"mean\"].agg(np.mean))\n",
    "crypto_asym_ratio_wasm_sgx_to_native = r_ratio(wasm_sgx_data_asym_export[wasm_sgx_data_asym_export[\"experiment\"].isin(asymmetric_ciphers_names)][\"mean\"].agg(np.mean))"
   ]
  },
  {
   "cell_type": "code",
   "execution_count": null,
   "metadata": {},
   "outputs": [],
   "source": [
    "#\n",
    "## Export to LaTeX\n",
    "#\n",
    "\n",
    "f = open(\"crypto-export.tex\", \"w\")\n",
    "\n",
    "f.write(f\"\\\\def\\\\cryptoSymRatioWasmToNative{{{crypto_sym_ratio_wasm_to_native}}}\\n\")\n",
    "f.write(f\"\\\\def\\\\cryptoSymRatioWasmSgxToNative{{{crypto_sym_ratio_wasm_sgx_to_native}}}\\n\")\n",
    "f.write(f\"\\\\def\\\\cryptoHashRatioWasmToNative{{{crypto_hash_ratio_wasm_to_native}}}\\n\")\n",
    "f.write(f\"\\\\def\\\\cryptoHashRatioWasmSgxToNative{{{crypto_hash_ratio_wasm_sgx_to_native}}}\\n\")\n",
    "f.write(f\"\\\\def\\\\cryptoAsymRatioWasmToNative{{{crypto_asym_ratio_wasm_to_native}}}\\n\")\n",
    "f.write(f\"\\\\def\\\\cryptoAsymRatioWasmSgxToNative{{{crypto_asym_ratio_wasm_sgx_to_native}}}\\n\")\n",
    "\n",
    "f.close()"
   ]
  },
  {
   "cell_type": "code",
   "execution_count": null,
   "metadata": {},
   "outputs": [],
   "source": []
  }
 ],
 "metadata": {
  "kernelspec": {
   "display_name": "Python 3 (ipykernel)",
   "language": "python",
   "name": "python3"
  },
  "language_info": {
   "codemirror_mode": {
    "name": "ipython",
    "version": 3
   },
   "file_extension": ".py",
   "mimetype": "text/x-python",
   "name": "python",
   "nbconvert_exporter": "python",
   "pygments_lexer": "ipython3",
   "version": "3.10.8"
  }
 },
 "nbformat": 4,
 "nbformat_minor": 4
}
