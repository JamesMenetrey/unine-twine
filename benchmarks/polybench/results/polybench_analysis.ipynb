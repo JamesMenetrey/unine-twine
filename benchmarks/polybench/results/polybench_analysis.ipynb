{
 "cells": [
  {
   "cell_type": "code",
   "execution_count": null,
   "metadata": {},
   "outputs": [],
   "source": [
    "# Imports\n",
    "import matplotlib\n",
    "import matplotlib.pyplot as plt\n",
    "import numpy as np\n",
    "import pandas as pd\n",
    "\n",
    "plt.rcParams['figure.figsize'] = (15.0, 8.0) # set default size of plots\n",
    "plt.rcParams['figure.facecolor'] = 'white'\n",
    "\n",
    "pd.set_option('display.max_rows', None)\n",
    "\n",
    "matplotlib.rcParams.update({'font.size': 15})"
   ]
  },
  {
   "cell_type": "code",
   "execution_count": null,
   "metadata": {},
   "outputs": [],
   "source": [
    "test_names = ['2mm', '3mm', 'adi', 'atax', 'bicg', 'cholesky', 'correlation', 'covariance', 'deriche', 'doitgen', 'durbin', 'fdtd-2d', 'floyd-warshall', 'gemm', 'gemver', 'gesummv', 'gramschmidt', 'heat-3d', 'jacobi-1d', 'jacobi-2d', 'lu', 'ludcmp', 'mvt', 'nussinov', 'seidel-2d', 'symm', 'syr2k', 'syrk', 'trisolv', 'trmm']\n",
    "\n",
    "native_data = pd.DataFrame()\n",
    "wasm_data = pd.DataFrame()\n",
    "wasm_sgx_data = pd.DataFrame()\n",
    "\n",
    "for test_name in test_names:\n",
    "    native_test_data = pd.read_csv(\"benchmark-native-\" + test_name + \".csv\", names = [\"time\"])\n",
    "    wasm_test_data = pd.read_csv(\"benchmark-wasm-\" + test_name + \".csv\", names = [\"time\"])\n",
    "    wasm_sgx_test_data = pd.read_csv(\"benchmark-wasm-sgx-\" + test_name + \".csv\", names = [\"time\"])\n",
    "    \n",
    "    native_data[test_name] = native_test_data[\"time\"]\n",
    "    wasm_data[test_name] = wasm_test_data[\"time\"]\n",
    "    wasm_sgx_data[test_name] = wasm_sgx_test_data[\"time\"]"
   ]
  },
  {
   "cell_type": "code",
   "execution_count": null,
   "metadata": {},
   "outputs": [],
   "source": [
    "# Normalize the results based on native memory implementation\n",
    "for col in wasm_data:\n",
    "    wasm_sgx_data[col] = wasm_sgx_data[col] / native_data[col]\n",
    "    wasm_data[col] = wasm_data[col] / native_data[col]\n",
    "    native_data[col] = 1"
   ]
  },
  {
   "cell_type": "code",
   "execution_count": null,
   "metadata": {},
   "outputs": [],
   "source": [
    "x = np.arange(len(test_names))  # the label locations\n",
    "width = 0.7/2.0  # the width of the bars\n",
    "\n",
    "fig, ax = plt.subplots()\n",
    "native_bar = ax.bar(x - width, native_data.median().values.tolist(), width, label='Native')\n",
    "wasm_bar = ax.bar(x, wasm_data.median().values.tolist(), width, label='WebAssembly AoT')\n",
    "wasm_sgx_bar = ax.bar(x + width, wasm_sgx_data.median().values.tolist(), width, label='WebAssembly AoT in SGX')\n",
    "        \n",
    "# Add some text for labels, title and custom x-axis tick labels, etc.\n",
    "ax.set_xlabel('Name of experiment')\n",
    "ax.set_ylabel('Normalised runtime\\n(Native = 1)')\n",
    "ax.set_title('Polybench benchmark')\n",
    "ax.set_xticks(x)\n",
    "ax.set_xticklabels(test_names)\n",
    "plt.xticks(rotation=90)\n",
    "ax.legend()\n",
    "\n",
    "\n",
    "handles, labels = ax.get_legend_handles_labels()\n",
    "ax.legend(reversed(handles), reversed(labels), loc='upper left')  # reverse to keep order consistent\n",
    "\n",
    "fig.tight_layout()\n",
    "\n",
    "plt.show()"
   ]
  },
  {
   "cell_type": "code",
   "execution_count": null,
   "metadata": {},
   "outputs": [],
   "source": [
    "# Export script\n",
    "#\n",
    "# Files generated:\n",
    "# - polybench_wasm_formatted.csv\n",
    "# - polybench_wasm_sgx_formatted.csv\n",
    "#\n",
    "# File format: experiment_name, mean, stddev\n",
    "\n",
    "def export_to_file(dataset, filename):\n",
    "    file = pd.DataFrame(columns = [\"experiment_name\", \"mean\", \"stddev\"])\n",
    "    \n",
    "    i = 0\n",
    "    for test_name in test_names:\n",
    "        file.loc[i] = [test_name,dataset[test_name].median(), dataset[test_name].std()] #\n",
    "        i += 1\n",
    "        \n",
    "    display(file)\n",
    "    file.to_csv(filename, index=False)\n",
    "    \n",
    "export_to_file(wasm_data, 'polybench_wasm_formatted.csv')\n",
    "export_to_file(wasm_sgx_data, 'polybench_wasm_sgx_formatted.csv')"
   ]
  },
  {
   "cell_type": "code",
   "execution_count": null,
   "metadata": {},
   "outputs": [],
   "source": []
  }
 ],
 "metadata": {
  "kernelspec": {
   "display_name": "Python 3",
   "language": "python",
   "name": "python3"
  },
  "language_info": {
   "codemirror_mode": {
    "name": "ipython",
    "version": 3
   },
   "file_extension": ".py",
   "mimetype": "text/x-python",
   "name": "python",
   "nbconvert_exporter": "python",
   "pygments_lexer": "ipython3",
   "version": "3.8.5"
  }
 },
 "nbformat": 4,
 "nbformat_minor": 4
}
