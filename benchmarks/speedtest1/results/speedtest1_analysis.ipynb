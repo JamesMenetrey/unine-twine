{
 "cells": [
  {
   "cell_type": "code",
   "execution_count": null,
   "metadata": {},
   "outputs": [],
   "source": [
    "# Imports\n",
    "import matplotlib\n",
    "import matplotlib.pyplot as plt\n",
    "import numpy as np\n",
    "import pandas as pd\n",
    "\n",
    "plt.rcParams['figure.figsize'] = (15.0, 8.0) # set default size of plots\n",
    "plt.rcParams['figure.facecolor'] = 'white'\n",
    "\n",
    "pd.set_option('display.max_rows', None)\n",
    "\n",
    "matplotlib.rcParams.update({'font.size': 15})"
   ]
  },
  {
   "cell_type": "code",
   "execution_count": null,
   "metadata": {},
   "outputs": [],
   "source": [
    "test_column_names = [\"speedtest100\", \"speedtest110\", \"speedtest120\", \"speedtest130\", \"speedtest140\",\n",
    "                \"speedtest142\", \"speedtest145\", \"speedtest160\", \"speedtest161\", \"speedtest170\", \"speedtest180\",\n",
    "                \"speedtest190\", \"speedtest210\", \"speedtest230\", \"speedtest240\", \"speedtest250\", \"speedtest260\",\n",
    "                \"speedtest270\", \"speedtest280\", \"speedtest290\", \"speedtest300\", \"speedtest320\", \"speedtest400\",\n",
    "                \"speedtest410\", \"speedtest500\", \"speedtest510\", \"speedtest520\", \"speedtest980\", \"speedtest990\"]\n",
    "column_names = [\"database_type\"] + test_column_names\n",
    "\n",
    "def read_benchmark_data(filename):\n",
    "    return pd.read_csv(filename, names = column_names)\n",
    "\n",
    "def filter_by_database_type(data, database_type):\n",
    "    filtered_by_database_type = data.loc[(data[\"database_type\"] == database_type)]\n",
    "    #grouped_by_database_type = filtered_by_database_type.groupby('database_type', as_index=False).mean()\n",
    "    return filtered_by_database_type.drop('database_type', 1).reset_index().drop('index', axis=1)\n",
    "\n",
    "def columns_without_database_type(data):\n",
    "    return data.values.tolist()[0]"
   ]
  },
  {
   "cell_type": "code",
   "execution_count": null,
   "metadata": {},
   "outputs": [],
   "source": [
    "native_raw_data = read_benchmark_data('benchmark-native.csv')\n",
    "native_memory = filter_by_database_type(native_raw_data, 0)\n",
    "native_file = filter_by_database_type(native_raw_data, 1)\n",
    "\n",
    "wasm_raw_data = read_benchmark_data('benchmark-wasm.csv')\n",
    "wasm_memory = filter_by_database_type(wasm_raw_data, 0)\n",
    "wasm_file = filter_by_database_type(wasm_raw_data, 1)\n",
    "\n",
    "wasm_sgx_raw_data = read_benchmark_data('benchmark-wasm-sgx.csv')\n",
    "wasm_sgx_memory = filter_by_database_type(wasm_sgx_raw_data, 0)\n",
    "wasm_sgx_file = filter_by_database_type(wasm_sgx_raw_data, 1)\n",
    "\n",
    "colors = [\"#1F77B4\", \"#AEC7E8\", \"#FF7F0E\", \"#FFBB78\", \"#2CA02C\", \"#98DF8A\", \"#D62728\", \"#FF9896\", \"#9467BD\", \"#C5B0D5\", \"#8C564B\", \"#C49C94\", \"#E377C2\", \"#F7B6D2\", \"#7F7F7F\", \"#C7C7C7\", \"#BCBD22\", \"#DBDB8D\", \"#17BECF\", \"#9EDAE5\"]"
   ]
  },
  {
   "cell_type": "code",
   "execution_count": null,
   "metadata": {},
   "outputs": [],
   "source": [
    "# Normalize the results based on native memory implementation\n",
    "for col in native_memory:\n",
    "    native_file[col] = native_file[col] / native_memory[col]\n",
    "    wasm_memory[col] = wasm_memory[col] / native_memory[col]\n",
    "    wasm_file[col] = wasm_file[col] / native_memory[col]\n",
    "    wasm_sgx_memory[col] = wasm_sgx_memory[col] / native_memory[col]\n",
    "    wasm_sgx_file[col] = wasm_sgx_file[col] / native_memory[col]\n",
    "    native_memory[col] = 1"
   ]
  },
  {
   "cell_type": "code",
   "execution_count": null,
   "metadata": {},
   "outputs": [],
   "source": [
    "labels = ['100', '110', '120', '130', '140', '142', '145', '160', '161', '170', '180', '190', '210', '230',\n",
    "          '240', '250', '260', '270', '280', '290', '300', '320', '400', '410', '500', '510', '520', '980', '990']\n",
    "\n",
    "x = np.arange(len(labels))  # the label locations\n",
    "width = 0.7/6.0  # the width of the bars\n",
    "\n",
    "fig, ax = plt.subplots()\n",
    "native_memory_bar = ax.bar(x - 5*width/2, native_memory.mean().values, width, label='Native (in-memory)')\n",
    "native_file_bar = ax.bar(x - 3*width/2, native_file.mean().values, width, label='Native (in-file)')\n",
    "wasm_memory_bar = ax.bar(x - width/2, wasm_memory.mean().values, width, label='WebAssembly AoT (in-memory)')\n",
    "wasm_file_bar = ax.bar(x + width/2, wasm_file.mean().values, width, label='WebAssembly AoT (in-file)')\n",
    "wasm_sgx_memory_bar = ax.bar(x + 3*width/2, wasm_sgx_memory.mean().values, width, label='WebAssembly AoT in SGX (in-memory)')\n",
    "wasm_sgx_file_bar = ax.bar(x + 5*width/2, wasm_sgx_file.mean().values, width, label='WebAssembly AoT in SGX (in-file)')\n",
    "\n",
    "i = 0\n",
    "for bars in [native_memory_bar, native_file_bar, wasm_memory_bar, wasm_file_bar, wasm_sgx_memory_bar, wasm_sgx_file_bar]:\n",
    "    for subbar in bars:\n",
    "        subbar.set_color(colors[i%len(colors)])\n",
    "    i += 1\n",
    "        \n",
    "# Add some text for labels, title and custom x-axis tick labels, etc.\n",
    "ax.set_xlabel('Name of experiment')\n",
    "ax.set_ylabel('Normalised runtime')\n",
    "ax.set_ylim([0, 15])\n",
    "ax.set_title('Speedtest1 benchmark')\n",
    "ax.set_xticks(x)\n",
    "ax.set_xticklabels(labels)\n",
    "ax.legend()\n",
    "\n",
    "\n",
    "handles, labels = ax.get_legend_handles_labels()\n",
    "ax.legend(reversed(handles), reversed(labels), loc='upper left')  # reverse to keep order consistent\n",
    "\n",
    "fig.tight_layout()\n",
    "\n",
    "plt.show()"
   ]
  },
  {
   "cell_type": "code",
   "execution_count": null,
   "metadata": {},
   "outputs": [],
   "source": [
    "# Export script\n",
    "#\n",
    "# Files generated:\n",
    "# - speedtest1_native_file_formatted.csv\n",
    "# - speedtest1_wasm_memory_formatted.csv\n",
    "# - speedtest1_wasm_file_formatted.csv\n",
    "# - speedtest1_wasm_sgx_memory_formatted.csv\n",
    "# - speedtest1_wasm_sgx_file_formatted.csv\n",
    "#\n",
    "# File format: experiment_name, mean, stddev\n",
    "\n",
    "def column_name_to_label(column_name):\n",
    "    return column_name[-3:]\n",
    "\n",
    "def export_to_file(dataset, filename):\n",
    "    file = pd.DataFrame(columns = [\"experiment_name\", \"mean\", \"stddev\"])\n",
    "    \n",
    "    #dataset = dataset.loc[(dataset[\"database_type\"] == database_type)]\n",
    "    \n",
    "    i = 0\n",
    "    for test_column_name in test_column_names:\n",
    "        file.loc[i] = [column_name_to_label(test_column_name),\n",
    "                       dataset[test_column_name].mean(),\n",
    "                       dataset[test_column_name].std()]\n",
    "        i += 1\n",
    "        \n",
    "    display(file)\n",
    "    file.to_csv(filename, index=False)\n",
    "    \n",
    "export_to_file(native_file, 'speedtest1_native_file_formatted.csv')\n",
    "export_to_file(wasm_memory, 'speedtest1_wasm_memory_formatted.csv')\n",
    "export_to_file(wasm_file, 'speedtest1_wasm_file_formatted.csv')\n",
    "export_to_file(wasm_sgx_memory, 'speedtest1_wasm_sgx_memory_formatted.csv')\n",
    "export_to_file(wasm_sgx_file, 'speedtest1_wasm_sgx_file_formatted.csv')"
   ]
  },
  {
   "cell_type": "code",
   "execution_count": null,
   "metadata": {},
   "outputs": [],
   "source": [
    "wasm_memory"
   ]
  },
  {
   "cell_type": "code",
   "execution_count": null,
   "metadata": {},
   "outputs": [],
   "source": [
    "##\n",
    "# Stats for the paper.\n",
    "##\n",
    "\n",
    "native_mem_compared_to_wasm_mem = 1 - (native_memory / wasm_memory).mean().mean()\n",
    "print(\"Wasm memory is \", native_mem_compared_to_wasm_mem, \"% slower than Native memory in average\")\n",
    "wasm_mem_compared_to_sgx_wasm_mem = 1 - (wasm_memory / wasm_sgx_memory).mean().mean()\n",
    "print(\"SGX Wasm memory is \", wasm_mem_compared_to_sgx_wasm_mem, \"% slower than Wasm memory in average\")"
   ]
  },
  {
   "cell_type": "code",
   "execution_count": null,
   "metadata": {},
   "outputs": [],
   "source": []
  }
 ],
 "metadata": {
  "kernelspec": {
   "display_name": "Python 3",
   "language": "python",
   "name": "python3"
  },
  "language_info": {
   "codemirror_mode": {
    "name": "ipython",
    "version": 3
   },
   "file_extension": ".py",
   "mimetype": "text/x-python",
   "name": "python",
   "nbconvert_exporter": "python",
   "pygments_lexer": "ipython3",
   "version": "3.8.5"
  }
 },
 "nbformat": 4,
 "nbformat_minor": 4
}
