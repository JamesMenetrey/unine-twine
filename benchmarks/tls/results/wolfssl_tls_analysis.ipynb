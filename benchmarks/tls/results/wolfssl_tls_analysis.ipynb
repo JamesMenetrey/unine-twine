{
 "cells": [
  {
   "cell_type": "code",
   "execution_count": null,
   "metadata": {},
   "outputs": [],
   "source": [
    "# Imports\n",
    "import matplotlib\n",
    "import matplotlib.pyplot as plt\n",
    "import numpy as np\n",
    "import pandas as pd\n",
    "\n",
    "plt.rcParams['figure.figsize'] = (15.0, 8.0) # set default size of plots\n",
    "plt.rcParams['figure.facecolor'] = 'white'\n",
    "\n",
    "pd.set_option('display.max_rows', None)\n",
    "\n",
    "matplotlib.rcParams.update({'font.size': 15})\n",
    "\n",
    "colors = [\"#cccccc\", \"#FB9A99\", \"#B0DC89\", \"#33A02C\", \"#A6CEE3\", \"#1F78B4\", \"#FDBF6F\", \"#FF7F00\"]"
   ]
  },
  {
   "cell_type": "code",
   "execution_count": null,
   "metadata": {},
   "outputs": [],
   "source": [
    "def read_data(filename):\n",
    "    column_names = [\"Ciphers\", \"MaxConns\", \"ConcConns\", \"TransactionsPerSecond\", \"BytesPerTransaction\", \"TotalReadBytes\", \"TotalWriteBytes\", \"ReadTime\", \"ReadBandwidth\", \"WriteTime\", \"WriteBandwidth\"]\n",
    "    data = pd.read_csv(filename, names=column_names)\n",
    "    return data\n",
    "\n",
    "def compute_ts_mean_std(df):\n",
    "    df = df[['Ciphers', 'ConcConns', 'TransactionsPerSecond']]\n",
    "    return df.groupby([\"Ciphers\", \"ConcConns\"], as_index=False).agg([np.mean, np.std]).droplevel(axis=1, level=0).reset_index()   "
   ]
  },
  {
   "cell_type": "code",
   "execution_count": null,
   "metadata": {
    "tags": []
   },
   "outputs": [],
   "source": [
    "native = read_data('benchmark-native-large-pages.csv')\n",
    "native_sgx = read_data('benchmark-native-sgx.csv')\n",
    "wasm = read_data('benchmark-wasm.csv')\n",
    "wasm_sgx = read_data('benchmark-wasm-sgx.csv')"
   ]
  },
  {
   "cell_type": "code",
   "execution_count": null,
   "metadata": {},
   "outputs": [],
   "source": [
    "# Normalize the results based on REE time\n",
    "\n",
    "## DISABLED\n",
    "\n",
    "native_normalized = native # pd.DataFrame()\n",
    "wasm_normalized = wasm # pd.DataFrame()\n",
    "native_sgx_normalized = native_sgx # pd.DataFrame()\n",
    "wasm_sgx_normalized = wasm_sgx # pd.DataFrame()\n",
    "#for col in native:\n",
    "#    if col == \"Ciphers\" or col == \"ConcConns\":\n",
    "#        wasm_sgx_normalized[col] = wasm_sgx[col]\n",
    "#        wasm_normalized[col] = wasm[col]\n",
    "#        native_sgx_normalized[col] = native_sgx[col]\n",
    "#        native_normalized[col] = native[col]\n",
    "#    elif col == \"TransactionsPerSecond\":\n",
    "#        wasm_sgx_normalized[col] = (wasm_sgx[col] / native[col])\n",
    "#        wasm_normalized[col] = (wasm[col] / native[col])\n",
    "#        native_sgx_normalized[col] = (native_sgx[col] / native[col])\n",
    "#        native_normalized[col] = 1\n",
    "    \n",
    "#wasm_sgx_normalized"
   ]
  },
  {
   "cell_type": "code",
   "execution_count": null,
   "metadata": {},
   "outputs": [],
   "source": [
    "native_grouped = compute_ts_mean_std(native_normalized)\n",
    "native_sgx_grouped = compute_ts_mean_std(native_sgx_normalized)\n",
    "wasm_grouped = compute_ts_mean_std(wasm_normalized)\n",
    "wasm_sgx_grouped = compute_ts_mean_std(wasm_sgx_normalized)\n",
    "\n",
    "native_sgx_grouped"
   ]
  },
  {
   "cell_type": "code",
   "execution_count": null,
   "metadata": {},
   "outputs": [],
   "source": [
    "#\n",
    "# Data visualization\n",
    "#\n",
    "def plot(ciphers, native, native_sgx, wasm, wasm_sgx):\n",
    "    merged_aesgcm = pd.DataFrame()\n",
    "    merged_aesgcm[\"ConcConns\"] = native.loc[native[\"Ciphers\"] == ciphers].reset_index(drop=True)[\"ConcConns\"]\n",
    "    merged_aesgcm[\"Native\"] = native.loc[native[\"Ciphers\"] == ciphers].reset_index(drop=True)[\"mean\"]\n",
    "    merged_aesgcm[\"NativeSgx\"] = native_sgx.loc[native_sgx[\"Ciphers\"] == ciphers].reset_index(drop=True)[\"mean\"]\n",
    "    merged_aesgcm[\"Wasm\"] = wasm.loc[wasm[\"Ciphers\"] == ciphers].reset_index(drop=True)[\"mean\"]\n",
    "    merged_aesgcm[\"WasmSgx\"] = wasm_sgx.loc[wasm_sgx[\"Ciphers\"] == ciphers].reset_index(drop=True)[\"mean\"]\n",
    "    merged_aesgcm.plot(x=\"ConcConns\", title=ciphers, xlabel=\"Number of concurrents connections\", ylabel=\"transactions per second\")"
   ]
  },
  {
   "cell_type": "code",
   "execution_count": null,
   "metadata": {},
   "outputs": [],
   "source": [
    "plot(\"TLS_AES_128_GCM_SHA256\", native_grouped, native_sgx_grouped, wasm_grouped, wasm_sgx_grouped)"
   ]
  },
  {
   "cell_type": "code",
   "execution_count": null,
   "metadata": {},
   "outputs": [],
   "source": [
    "plot(\"TLS_AES_128_CCM_SHA256\", native_grouped, native_sgx_grouped, wasm_grouped, wasm_sgx_grouped)"
   ]
  },
  {
   "cell_type": "code",
   "execution_count": null,
   "metadata": {},
   "outputs": [],
   "source": [
    "plot(\"TLS_CHACHA20_POLY1305_SHA256\", native_grouped, native_sgx_grouped, wasm_grouped, wasm_sgx_grouped)"
   ]
  },
  {
   "cell_type": "code",
   "execution_count": null,
   "metadata": {},
   "outputs": [],
   "source": [
    "#\n",
    "# Export script\n",
    "#\n",
    "def export_file_by_ciphers(df, ciphers, filename):\n",
    "    df = df.loc[df[\"Ciphers\"] == ciphers].reset_index(drop=True)\n",
    "    df.to_csv(filename, index=False)\n",
    "    \n",
    "for (ciphers, filename_prefix) in [(\"TLS_AES_128_GCM_SHA256\", \"aesgcm\"), (\"TLS_AES_128_CCM_SHA256\", \"aesccm\"), (\"TLS_CHACHA20_POLY1305_SHA256\", \"chachapoly\")]:\n",
    "    export_file_by_ciphers(native_grouped, ciphers, f\"{filename_prefix}_native_formatted.csv\")\n",
    "    export_file_by_ciphers(native_sgx_grouped, ciphers, f\"{filename_prefix}_native_sgx_formatted.csv\")\n",
    "    export_file_by_ciphers(wasm_grouped, ciphers, f\"{filename_prefix}_wasm_formatted.csv\")\n",
    "    export_file_by_ciphers(wasm_sgx_grouped, ciphers, f\"{filename_prefix}_wasm_sgx_formatted.csv\")"
   ]
  },
  {
   "cell_type": "code",
   "execution_count": null,
   "metadata": {},
   "outputs": [],
   "source": [
    "#\n",
    "## Stats for the paper.\n",
    "#\n",
    "\n",
    "def r_ratio(value, number_of_digits = 1):\n",
    "    return f\"{round(value, number_of_digits)}\".rstrip('0').rstrip('.')\n",
    "\n",
    "native_average_transaction_per_sec = r_ratio(native_grouped[\"mean\"].agg(np.mean), 0)\n",
    "native_sgx_average_transaction_per_sec = r_ratio(native_sgx_grouped[\"mean\"].agg(np.mean), 0)\n",
    "wasm_average_transaction_per_sec = r_ratio(wasm_grouped[\"mean\"].agg(np.mean), 0)\n",
    "wasm_sgx_average_transaction_per_sec = r_ratio(wasm_sgx_grouped[\"mean\"].agg(np.mean), 0)\n",
    "\n",
    "native_sgx_average_ratio = r_ratio(native_grouped[\"mean\"].agg(np.mean) / native_sgx_grouped[\"mean\"].agg(np.mean))\n",
    "wasm_average_ratio = r_ratio(native_grouped[\"mean\"].agg(np.mean) / wasm_grouped[\"mean\"].agg(np.mean))\n",
    "wasm_sgx_sgx_average_ratio = r_ratio(native_grouped[\"mean\"].agg(np.mean) / wasm_sgx_grouped[\"mean\"].agg(np.mean))\n",
    "\n",
    "native_sgx_vs_wasm_sgx_ratio = r_ratio(native_sgx_grouped[\"mean\"].agg(np.mean) / wasm_sgx_grouped[\"mean\"].agg(np.mean))"
   ]
  },
  {
   "cell_type": "code",
   "execution_count": null,
   "metadata": {},
   "outputs": [],
   "source": [
    "#\n",
    "## Export to LaTeX\n",
    "#\n",
    "\n",
    "f = open(\"tls-export.tex\", \"w\")\n",
    "\n",
    "f.write(f\"\\\\def\\\\tlsAverageNative{{{native_average_transaction_per_sec}}}\\n\")\n",
    "f.write(f\"\\\\def\\\\tlsAverageSgx{{{native_sgx_average_transaction_per_sec}}}\\n\")\n",
    "f.write(f\"\\\\def\\\\tlsAverageWasm{{{wasm_average_transaction_per_sec}}}\\n\")\n",
    "f.write(f\"\\\\def\\\\tlsAverageTwine{{{wasm_sgx_average_transaction_per_sec}}}\\n\")\n",
    "\n",
    "f.write(f\"\\\\def\\\\tlsRatioSgx{{{native_sgx_average_ratio}}}\\n\")\n",
    "f.write(f\"\\\\def\\\\tlsRatioWasm{{{wasm_average_ratio}}}\\n\")\n",
    "f.write(f\"\\\\def\\\\tlsRatioTwine{{{wasm_sgx_sgx_average_ratio}}}\\n\")\n",
    "f.write(f\"\\\\def\\\\tlsRatioSgxVsTwine{{{native_sgx_vs_wasm_sgx_ratio}}}\\n\")\n",
    "\n",
    "f.close()"
   ]
  },
  {
   "cell_type": "code",
   "execution_count": null,
   "metadata": {},
   "outputs": [],
   "source": []
  }
 ],
 "metadata": {
  "kernelspec": {
   "display_name": "Python 3 (ipykernel)",
   "language": "python",
   "name": "python3"
  },
  "language_info": {
   "codemirror_mode": {
    "name": "ipython",
    "version": 3
   },
   "file_extension": ".py",
   "mimetype": "text/x-python",
   "name": "python",
   "nbconvert_exporter": "python",
   "pygments_lexer": "ipython3",
   "version": "3.10.8"
  }
 },
 "nbformat": 4,
 "nbformat_minor": 4
}
